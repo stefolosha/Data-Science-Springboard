{
 "cells": [
  {
   "cell_type": "markdown",
   "metadata": {},
   "source": [
    "This exercise will require you to pull some data from the Qunadl API. Qaundl is currently the most widely used aggregator of financial market data."
   ]
  },
  {
   "cell_type": "markdown",
   "metadata": {},
   "source": [
    "As a first step, you will need to register a free account on the http://www.quandl.com website."
   ]
  },
  {
   "cell_type": "markdown",
   "metadata": {},
   "source": [
    "After you register, you will be provided with a unique API key, that you should store:"
   ]
  },
  {
   "cell_type": "code",
   "execution_count": 1,
   "metadata": {},
   "outputs": [],
   "source": [
    "# Store the API key as a string - according to PEP8, constants are always named in all upper case\n",
    "API_KEY = 'k'# REMOVE BEFORE ADDING TO GITHUB\n"
   ]
  },
  {
   "cell_type": "markdown",
   "metadata": {},
   "source": [
    "Qaundl has a large number of data sources, but, unfortunately, most of them require a Premium subscription. Still, there are also a good number of free datasets."
   ]
  },
  {
   "cell_type": "markdown",
   "metadata": {},
   "source": [
    "For this mini project, we will focus on equities data from the Frankfurt Stock Exhange (FSE), which is available for free. We'll try and analyze the stock prices of a company called Carl Zeiss Meditec, which manufactures tools for eye examinations, as well as medical lasers for laser eye surgery: https://www.zeiss.com/meditec/int/home.html. The company is listed under the stock ticker AFX_X."
   ]
  },
  {
   "cell_type": "markdown",
   "metadata": {},
   "source": [
    "You can find the detailed Quandl API instructions here: https://docs.quandl.com/docs/time-series"
   ]
  },
  {
   "cell_type": "markdown",
   "metadata": {},
   "source": [
    "While there is a dedicated Python package for connecting to the Quandl API, we would prefer that you use the *requests* package, which can be easily downloaded using *pip* or *conda*. You can find the documentation for the package here: http://docs.python-requests.org/en/master/ "
   ]
  },
  {
   "cell_type": "markdown",
   "metadata": {},
   "source": [
    "Finally, apart from the *requests* package, you are encouraged to not use any third party Python packages, such as *pandas*, and instead focus on what's available in the Python Standard Library (the *collections* module might come in handy: https://pymotw.com/3/collections/ ).\n",
    "Also, since you won't have access to DataFrames, you are encouraged to us Python's native data structures - preferably dictionaries, though some questions can also be answered using lists.\n",
    "You can read more on these data structures here: https://docs.python.org/3/tutorial/datastructures.html"
   ]
  },
  {
   "cell_type": "markdown",
   "metadata": {},
   "source": [
    "Keep in mind that the JSON responses you will be getting from the API map almost one-to-one to Python's dictionaries. Unfortunately, they can be very nested, so make sure you read up on indexing dictionaries in the documentation provided above."
   ]
  },
  {
   "cell_type": "code",
   "execution_count": 2,
   "metadata": {},
   "outputs": [],
   "source": [
    "# First, import the relevant modules\n",
    "import requests\n",
    "from collections import defaultdict\n",
    "import json\n",
    "import statistics"
   ]
  },
  {
   "cell_type": "code",
   "execution_count": 3,
   "metadata": {},
   "outputs": [
    {
     "name": "stdout",
     "output_type": "stream",
     "text": [
      "{'dataset': {'id': 10095370, 'dataset_code': 'AFX_X', 'database_code': 'FSE', 'name': 'Carl Zeiss Meditec (AFX_X)', 'description': 'Stock Prices for Carl Zeiss Meditec (2020-11-02) from the Frankfurt Stock Exchange.<br><br>Trading System: Xetra<br><br>ISIN: DE0005313704', 'refreshed_at': '2020-12-01T14:48:09.907Z', 'newest_available_date': '2020-12-01', 'oldest_available_date': '2000-06-07', 'column_names': ['Date', 'Open', 'High', 'Low', 'Close', 'Change', 'Traded Volume', 'Turnover', 'Last Price of the Day', 'Daily Traded Units', 'Daily Turnover'], 'frequency': 'daily', 'type': 'Time Series', 'premium': False, 'limit': None, 'transform': None, 'column_index': None, 'start_date': '2016-01-01', 'end_date': '2016-01-01', 'data': [['2016-01-01', None, 28.73, 28.275, 28.55, 0.15, 31307.0, 893928.0, None, None, None]], 'collapse': None, 'order': None, 'database_id': 6129}}\n"
     ]
    }
   ],
   "source": [
    "# Now, call the Quandl API and pull out a small sample of the data (only one day) to get a glimpse\n",
    "# into the JSON structure that will be returned\n",
    "request = requests.get('https://www.quandl.com/api/v3/datasets/FSE/AFX_X.json?&start_date=2016-01-01&end_date=2016-01-01&api_key=KAGB2p3i49S21AX15pMT')\n",
    "j = request.json()\n",
    "print(j)"
   ]
  },
  {
   "cell_type": "code",
   "execution_count": 4,
   "metadata": {},
   "outputs": [],
   "source": [
    "# Inspect the JSON structure of the object you created, and take note of how nested it is,\n",
    "# as well as the overall structure\n",
    "#not sure what to do here\n",
    "\n"
   ]
  },
  {
   "cell_type": "markdown",
   "metadata": {},
   "source": [
    "These are your tasks for this mini project:\n",
    "\n",
    "1. Collect data from the Franfurt Stock Exchange, for the ticker AFX_X, for the whole year 2017 (keep in mind that the date format is YYYY-MM-DD).\n",
    "2. Convert the returned JSON object into a Python dictionary.\n",
    "3. Calculate what the highest and lowest opening prices were for the stock in this period.\n",
    "4. What was the largest change in any one day (based on High and Low price)?\n",
    "5. What was the largest change between any two days (based on Closing Price)?\n",
    "6. What was the average daily trading volume during this year?\n",
    "7. (Optional) What was the median trading volume during this year. (Note: you may need to implement your own function for calculating the median.)"
   ]
  },
  {
   "cell_type": "code",
   "execution_count": 5,
   "metadata": {},
   "outputs": [
    {
     "name": "stdout",
     "output_type": "stream",
     "text": [
      "(34.0, '2017-01-24')\n",
      "(53.11, '2017-12-14')\n",
      "(2.8100000000000023, '2017-05-11')\n",
      "The largest change was 2.559999999999995 and it occured between 2017-05-18 and 2017-05-19\n",
      "89124.33725490196\n",
      "76286.0\n"
     ]
    }
   ],
   "source": [
    "request = requests.get('https://www.quandl.com/api/v3/datasets/FSE/AFX_X.json?&start_date=2017-01-01&end_date=2017-12-31&api_key=1AX15pMT')\n",
    "j = request.json() #making object into python dictionary\n",
    "diction = j['dataset'] #the dictionary is nested within a dictionary\n",
    "open_prices = defaultdict(float) #creating an empty dictionary to add open prices\n",
    "largest_change = defaultdict(float) #creating an empty dictionary to add the change\n",
    "closeprice= [] #list to add close prices\n",
    "closekeys = [] #list to add close keys\n",
    "tradevolume = [] #list to add trade volume\n",
    "for item in (diction['data']): #iterate through the data dictionary within dataset\n",
    "    closeprice.append(item[4]) # item 4 is the close price\n",
    "    closekeys.append(item[0]) # item 0 is the date\n",
    "    tradevolume.append(item[6]) # volume is item 6\n",
    "    if item[1] != None: #remove empty values\n",
    "        open_prices[item[1]] = item[0] # value as the key and date as the value\n",
    "        largest_change[item[2]- item[3]] = item[0] #daily high- daily low \n",
    "sorted_open_prices = sorted(open_prices.items()) #sort by key which is the open price\n",
    "sorted_largest_change = sorted(largest_change.items()) #sort by key which is difference\n",
    "print(sorted_open_prices[0]) #lowest  opening price\n",
    "print(sorted_open_prices[-1]) #highest opening price\n",
    "print(sorted_largest_change[-1]) #largest change in one day\n",
    "v = [abs(closeprice[i+1]-closeprice[i]) for i in range(len(closeprice)-1)] #iterate through lenght of closeprice-1 since there is no prior day for first\n",
    "keys = sorted(closekeys) #sort the closekeys because they were unsorted when added to the list\n",
    "keys.pop(0) #remove the first key since there is no prior day to compare to \n",
    "new = {keys[i]: v[i] for i in range(len(keys))} #match key value pair\n",
    "print('The largest change was ' + str(new['2017-05-19']) + ' and it occured between 2017-05-18 and '+ str(max(new, key=new.get))) # I looked up the last part of this equation online\n",
    "print(sum(tradevolume)/len(tradevolume)) #average trade volume per day\n",
    "print(statistics.median(tradevolume)) #median trave volume\n"
   ]
  },
  {
   "cell_type": "code",
   "execution_count": null,
   "metadata": {},
   "outputs": [],
   "source": []
  }
 ],
 "metadata": {
  "kernelspec": {
   "display_name": "Python 3",
   "language": "python",
   "name": "python3"
  },
  "language_info": {
   "codemirror_mode": {
    "name": "ipython",
    "version": 3
   },
   "file_extension": ".py",
   "mimetype": "text/x-python",
   "name": "python",
   "nbconvert_exporter": "python",
   "pygments_lexer": "ipython3",
   "version": "3.8.5"
  }
 },
 "nbformat": 4,
 "nbformat_minor": 2
}
